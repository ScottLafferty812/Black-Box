{
 "cells": [
  {
   "cell_type": "code",
   "execution_count": 12,
   "id": "70d4ece4",
   "metadata": {},
   "outputs": [
    {
     "name": "stdout",
     "output_type": "stream",
     "text": [
      "Enter grade: 97\n",
      "Congradulations! Your grade 97% earns you an A in this course\n"
     ]
    }
   ],
   "source": [
    "grade = int(input('Enter grade: '))\n",
    "if grade >= 90:\n",
    "    print(f\"Congradulations! Your grade {grade}% earns you an A in this course!\")"
   ]
  }
 ],
 "metadata": {
  "kernelspec": {
   "display_name": "Python 3 (ipykernel)",
   "language": "python",
   "name": "python3"
  },
  "language_info": {
   "codemirror_mode": {
    "name": "ipython",
    "version": 3
   },
   "file_extension": ".py",
   "mimetype": "text/x-python",
   "name": "python",
   "nbconvert_exporter": "python",
   "pygments_lexer": "ipython3",
   "version": "3.9.16"
  }
 },
 "nbformat": 4,
 "nbformat_minor": 5
}
