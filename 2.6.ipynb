{
 "cells": [
  {
   "cell_type": "code",
   "execution_count": 6,
   "id": "1e92daa5",
   "metadata": {},
   "outputs": [
    {
     "name": "stdout",
     "output_type": "stream",
     "text": [
      "Enter an integer, I will determine if it is even or odd: 5\n",
      "Your number is odd.\n"
     ]
    }
   ],
   "source": [
    "number1 = int(input(\"Enter an integer, I will determine if it is even or odd: \"))\n",
    "number2 = 2\n",
    "if number1 % number2 == 0:\n",
    "    print(\"Your number is even.\")\n",
    "    \n",
    "if number1 % number2 != 0:\n",
    "    print(\"Your number is odd.\")\n"
   ]
  }
 ],
 "metadata": {
  "kernelspec": {
   "display_name": "Python 3 (ipykernel)",
   "language": "python",
   "name": "python3"
  },
  "language_info": {
   "codemirror_mode": {
    "name": "ipython",
    "version": 3
   },
   "file_extension": ".py",
   "mimetype": "text/x-python",
   "name": "python",
   "nbconvert_exporter": "python",
   "pygments_lexer": "ipython3",
   "version": "3.9.16"
  }
 },
 "nbformat": 4,
 "nbformat_minor": 5
}
