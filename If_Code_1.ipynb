{
 "cells": [
  {
   "cell_type": "code",
   "execution_count": null,
   "id": "75890941",
   "metadata": {},
   "outputs": [
    {
     "name": "stdout",
     "output_type": "stream",
     "text": [
      "Enter two integers, and I will tell you, the relationships they satisfy.\n"
     ]
    }
   ],
   "source": [
    "'''Comparing integers using if statements and comparison operators.'''\n",
    "\n",
    "print('Enter two integers, and I will tell you, the relationships they satisfy.')\n",
    "\n",
    "#read first integer \n",
    "number1 = int(input('Enter first integer: '))\n",
    "\n",
    "#read second integer\n",
    "number2 = int(input('Enter second integer: '))\n",
    "\n",
    "if number1 == number2:\n",
    "    print(number1, 'is equal to', number2)\n",
    "    \n",
    "if number1 != number2:\n",
    "    print(number1, 'is not equal to', number2)\n",
    "\n",
    "if number1 < number2:\n",
    "    print(number1, 'is less than', number2)\n",
    "    \n",
    "if number1 > number2:\n",
    "    print(number1, 'is greater than', number2)\n",
    "    \n",
    "if number1 <= number2:\n",
    "    print(number1, 'is less than or equal to', number2)\n",
    "    \n",
    "if number >= number2:\n",
    "    print(number1, 'is greater than or equal to', number2)"
   ]
  }
 ],
 "metadata": {
  "kernelspec": {
   "display_name": "Python 3 (ipykernel)",
   "language": "python",
   "name": "python3"
  },
  "language_info": {
   "codemirror_mode": {
    "name": "ipython",
    "version": 3
   },
   "file_extension": ".py",
   "mimetype": "text/x-python",
   "name": "python",
   "nbconvert_exporter": "python",
   "pygments_lexer": "ipython3",
   "version": "3.9.16"
  }
 },
 "nbformat": 4,
 "nbformat_minor": 5
}
