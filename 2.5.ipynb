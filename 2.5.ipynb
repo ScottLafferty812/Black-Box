{
 "cells": [
  {
   "cell_type": "code",
   "execution_count": 6,
   "id": "e15732f7",
   "metadata": {},
   "outputs": [
    {
     "name": "stdout",
     "output_type": "stream",
     "text": [
      "Diameter of this circle 4, circumfrence of this circle is 12.56636, area of this circle is 12.56636.\n"
     ]
    }
   ],
   "source": [
    "pie = 3.14159\n",
    "radius = 2\n",
    "\n",
    "diameter = 2 * radius\n",
    "\n",
    "circumfrence = 2 * pie * radius\n",
    "\n",
    "area = pie * (radius ** 2)\n",
    "\n",
    "print(f\"Diameter of this circle {diameter}, circumfrence of this circle is {circumfrence}, area of this circle is {area}.\")\n"
   ]
  }
 ],
 "metadata": {
  "kernelspec": {
   "display_name": "Python 3 (ipykernel)",
   "language": "python",
   "name": "python3"
  },
  "language_info": {
   "codemirror_mode": {
    "name": "ipython",
    "version": 3
   },
   "file_extension": ".py",
   "mimetype": "text/x-python",
   "name": "python",
   "nbconvert_exporter": "python",
   "pygments_lexer": "ipython3",
   "version": "3.9.16"
  }
 },
 "nbformat": 4,
 "nbformat_minor": 5
}
