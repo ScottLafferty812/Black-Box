{
 "cells": [
  {
   "cell_type": "code",
   "execution_count": 21,
   "id": "ccdb20e5",
   "metadata": {},
   "outputs": [
    {
     "name": "stdout",
     "output_type": "stream",
     "text": [
      "normal \tsquare \tcubed \n",
      "0 \t0 \t0 \n",
      "1 \t1 \t1 \n",
      "2 \t4 \t8 \n",
      "3 \t9 \t27 \n",
      "4 \t16 \t64 \n",
      "5 \t25 \t125\n"
     ]
    }
   ],
   "source": [
    "n0 = 0\n",
    "n1 = 1\n",
    "n2 = 2\n",
    "n3 = 3\n",
    "n4 = 4\n",
    "n5 = 5\n",
    "\n",
    "n0sqr = n0 ** 2\n",
    "n0cub = n0 ** 3\n",
    "n1sqr = n1 ** 2\n",
    "n1cub = n1 ** 3\n",
    "n2sqr = n2 ** 2\n",
    "n2cub = n2 ** 3\n",
    "n3sqr = n3 ** 2\n",
    "n3cub = n3 ** 3\n",
    "n4sqr = n4 ** 2\n",
    "n4cub = n4 ** 3\n",
    "n5sqr = n5 ** 2\n",
    "n5cub = n5 ** 3\n",
    "\n",
    "print(f\"\"\"normal \\tsquare \\tcubed \\n{n0} \\t{n0sqr} \\t{n0cub} \\\n",
    "\\n{n1} \\t{n1sqr} \\t{n1cub} \\\n",
    "\\n{n2} \\t{n2sqr} \\t{n2cub} \\\n",
    "\\n{n3} \\t{n3sqr} \\t{n3cub} \\\n",
    "\\n{n4} \\t{n4sqr} \\t{n4cub} \\\n",
    "\\n{n5} \\t{n5sqr} \\t{n5cub}\"\"\")"
   ]
  }
 ],
 "metadata": {
  "kernelspec": {
   "display_name": "Python 3 (ipykernel)",
   "language": "python",
   "name": "python3"
  },
  "language_info": {
   "codemirror_mode": {
    "name": "ipython",
    "version": 3
   },
   "file_extension": ".py",
   "mimetype": "text/x-python",
   "name": "python",
   "nbconvert_exporter": "python",
   "pygments_lexer": "ipython3",
   "version": "3.9.16"
  }
 },
 "nbformat": 4,
 "nbformat_minor": 5
}
